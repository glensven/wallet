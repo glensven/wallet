{
 "cells": [
  {
   "cell_type": "code",
   "execution_count": 12,
   "id": "c51fe6ce-a9a1-444f-9775-4d861ee23eee",
   "metadata": {},
   "outputs": [
    {
     "name": "stdout",
     "output_type": "stream",
     "text": [
      "The autoreload extension is already loaded. To reload it, use:\n",
      "  %reload_ext autoreload\n"
     ]
    }
   ],
   "source": [
    "from wallet import *\n",
    "%load_ext autoreload\n",
    "%autoreload 2\n"
   ]
  },
  {
   "cell_type": "code",
   "execution_count": null,
   "id": "35e9084e-ed75-452c-9f47-61599091155c",
   "metadata": {},
   "outputs": [],
   "source": []
  },
  {
   "cell_type": "code",
   "execution_count": 17,
   "id": "12054aba-d0f9-475a-8cba-11fec0764892",
   "metadata": {},
   "outputs": [
    {
     "data": {
      "text/plain": [
       "[{'path': \"m/44'/60'/0'/0/0\",\n",
       "  'address': '0x9AfF9772656aD52245A99007F450093A9c4c0afd',\n",
       "  'xprv': 'xprvA3YzhHKdNnD2hw3UFB8TfattRtuQaZTGNXymAnME2DJPDwxRiChJLCnLz1LhJ5kRmxjwzdh7tsRhzvBajb5ox57Fygu1ZY5q9shbYQUxzKP',\n",
       "  'xpub': 'xpub6GYM6nrXD9mKvR7wMCfU2iqcyvjtz2B7jkuMyAkqaYqN6kHaFk1Yt16pqJv5Wm1h5vdufdper3hCArUG9ihBWjXnYpAatZ59q4dVkcY6Y2y',\n",
       "  'privkey': '0x992c9e029e0a6d44bd84c0ba98fe317bce298dea07e699dbdfa5e81587e9b478',\n",
       "  'pubkey': '03e85b3b3053d405e18435a8cf71f1a278931312514c6aa30a67b3659c43330712',\n",
       "  'pubkeyhash': 'dc57f8f0f4d9dc8736da00c764fbf674af050159',\n",
       "  'index': 0},\n",
       " {'path': \"m/44'/60'/0'/0/1\",\n",
       "  'address': '0xA4bEBCb647A0f7018B334E4A898afA571e5F2038',\n",
       "  'xprv': 'xprvA3YzhHKdNnD2m2dWjchoTSu1XCWKtYs8XXRwra4nXNAmWCFogrrQ5QLabGWmwrygcN6qx75uKr1Q9qcjJyyR3og73PxjiXX8tmJ3ksEeKBs',\n",
       "  'xpub': 'xpub6GYM6nrXD9mKyWhyqeEopaqk5ELpJ1aytkMYexUQ5hhkNzaxEQAedCf4SZdQs8k3FGwo5QFs43TGsahJhV8KyzzfHUBKqGS74v7tmbTVbVc',\n",
       "  'privkey': '0xe4cc2bd01fa8374e7200c89206e0327418c239710267ca39239b5e20de35e058',\n",
       "  'pubkey': '03f73f9120f1b01668ae107a5b647cda3bcb584bb86f8ef8f23d9eba4b35c22572',\n",
       "  'pubkeyhash': '50b789f9a589dc2f657d750f5d7f817c2ccb3fbf',\n",
       "  'index': 1},\n",
       " {'path': \"m/44'/60'/0'/0/2\",\n",
       "  'address': '0x5c8AAa29050c1fa5DB95708c127268A15db8c6Ad',\n",
       "  'xprv': 'xprvA3YzhHKdNnD2ocx1TtYJrq9L6d4kP15JxJGiQFKknjWVUPrpc5UJySfFztLvsXFqKNVvWepQo3BCPJDcAYX6BWTreCpyTVmSezNVRNbVgte',\n",
       "  'xpub': 'xpub6GYM6nrXD9mL272UZv5KDy64eeuEnToAKXCKCdjNM53UMCBy9cnZXEyjr9pNQE6SKsFuUCRQw9wmCxhLHofsDwsufpHTdtBT2mgGx2hPBMq',\n",
       "  'privkey': '0xe6e769113052806aa913eaf5f1679e98cd34352a5dc19da6dfece8a8ba1d6287',\n",
       "  'pubkey': '03213320fc3a613bd3fea80fd7d2c619e4231849f910635b348573b47f2032138c',\n",
       "  'pubkeyhash': '4bdf0cc65712e555f825a5dfa066c436e7d1daa5',\n",
       "  'index': 2}]"
      ]
     },
     "execution_count": 17,
     "metadata": {},
     "output_type": "execute_result"
    }
   ],
   "source": [
    "derive_wallets(coin=ETH, mnemonic=mnemonic, depth=3)"
   ]
  },
  {
   "cell_type": "code",
   "execution_count": 16,
   "id": "b469fb54-9ee3-48a7-b534-421f9ff538cb",
   "metadata": {},
   "outputs": [
    {
     "data": {
      "text/plain": [
       "<eth_account.signers.local.LocalAccount at 0x1990691fbc8>"
      ]
     },
     "execution_count": 16,
     "metadata": {},
     "output_type": "execute_result"
    }
   ],
   "source": [
    "myaccount = priv_key_to_account(ETH, '0x992c9e029e0a6d44bd84c0ba98fe317bce298dea07e699dbdfa5e81587e9b478')\n",
    "myaccount"
   ]
  },
  {
   "cell_type": "code",
   "execution_count": 25,
   "id": "c9a2e667-bb99-4c49-b2a5-21d7a42dfc0c",
   "metadata": {},
   "outputs": [
    {
     "data": {
      "text/plain": [
       "{'from': '0x9AfF9772656aD52245A99007F450093A9c4c0afd',\n",
       " 'to': '0xE50A0F94Bd38d5d89B5Aea00795b2A4429F4582f',\n",
       " 'value': 5000000000000000000,\n",
       " 'gas': 21000,\n",
       " 'gasPrice': 20000000000,\n",
       " 'nonce': 0,\n",
       " 'chainId': 1337}"
      ]
     },
     "execution_count": 25,
     "metadata": {},
     "output_type": "execute_result"
    }
   ],
   "source": [
    "create_tx(ETH, myaccount.address, '0xE50A0F94Bd38d5d89B5Aea00795b2A4429F4582f', 5)"
   ]
  },
  {
   "cell_type": "code",
   "execution_count": 26,
   "id": "bc772571-8cb6-4dec-b8bd-005e98a73bf6",
   "metadata": {},
   "outputs": [
    {
     "data": {
      "text/plain": [
       "'0x469a6e5f48c39c2de3e59931243312f10ff14679dd44b2b6b365922280b53604'"
      ]
     },
     "execution_count": 26,
     "metadata": {},
     "output_type": "execute_result"
    }
   ],
   "source": [
    "send_tx(ETH, myaccount, '0xE50A0F94Bd38d5d89B5Aea00795b2A4429F4582f', 5)"
   ]
  },
  {
   "cell_type": "code",
   "execution_count": null,
   "id": "85bb7dbd-04c1-4800-8b99-b34e1ba0732c",
   "metadata": {},
   "outputs": [],
   "source": []
  },
  {
   "cell_type": "code",
   "execution_count": null,
   "id": "31d14c19-5198-48b9-9b65-10119d8700a0",
   "metadata": {},
   "outputs": [],
   "source": []
  }
 ],
 "metadata": {
  "kernelspec": {
   "display_name": "Python 3",
   "language": "python",
   "name": "python3"
  },
  "language_info": {
   "codemirror_mode": {
    "name": "ipython",
    "version": 3
   },
   "file_extension": ".py",
   "mimetype": "text/x-python",
   "name": "python",
   "nbconvert_exporter": "python",
   "pygments_lexer": "ipython3",
   "version": "3.7.10"
  }
 },
 "nbformat": 4,
 "nbformat_minor": 5
}
